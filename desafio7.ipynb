{
  "nbformat": 4,
  "nbformat_minor": 0,
  "metadata": {
    "colab": {
      "provenance": [],
      "authorship_tag": "ABX9TyODT3/ftGCmoJct72g5wewp",
      "include_colab_link": true
    },
    "kernelspec": {
      "name": "python3",
      "display_name": "Python 3"
    },
    "language_info": {
      "name": "python"
    }
  },
  "cells": [
    {
      "cell_type": "markdown",
      "metadata": {
        "id": "view-in-github",
        "colab_type": "text"
      },
      "source": [
        "<a href=\"https://colab.research.google.com/github/pesado-dev/DATA_SCIENCE/blob/main/desafio7.ipynb\" target=\"_parent\"><img src=\"https://colab.research.google.com/assets/colab-badge.svg\" alt=\"Open In Colab\"/></a>"
      ]
    },
    {
      "cell_type": "code",
      "execution_count": 3,
      "metadata": {
        "id": "CE-Uf7N-MpiT"
      },
      "outputs": [],
      "source": [
        "# Etapa 01: Análise exploratória dos dados\n",
        "import pandas as pd\n"
      ]
    },
    {
      "cell_type": "code",
      "source": [
        "pip install requests\n"
      ],
      "metadata": {
        "colab": {
          "base_uri": "https://localhost:8080/"
        },
        "id": "vpE-t_0wMwp4",
        "outputId": "a8f9245d-7ac2-4a72-cb91-d4f77deed913"
      },
      "execution_count": 4,
      "outputs": [
        {
          "output_type": "stream",
          "name": "stdout",
          "text": [
            "Requirement already satisfied: requests in /usr/local/lib/python3.10/dist-packages (2.31.0)\n",
            "Requirement already satisfied: charset-normalizer<4,>=2 in /usr/local/lib/python3.10/dist-packages (from requests) (3.3.2)\n",
            "Requirement already satisfied: idna<4,>=2.5 in /usr/local/lib/python3.10/dist-packages (from requests) (3.6)\n",
            "Requirement already satisfied: urllib3<3,>=1.21.1 in /usr/local/lib/python3.10/dist-packages (from requests) (2.0.7)\n",
            "Requirement already satisfied: certifi>=2017.4.17 in /usr/local/lib/python3.10/dist-packages (from requests) (2023.11.17)\n"
          ]
        }
      ]
    },
    {
      "cell_type": "code",
      "source": [
        "import pandas as pd\n",
        "import requests\n",
        "from io import StringIO\n",
        "\n",
        "# URL do arquivo CSV\n",
        "url = \"https://file.notion.so/f/f/6a055055-52ec-4ebb-a697-63027c951344/75a740fb-4146-455a-8d13-6a24ba56d2c8/streaming_data.csv?id=7f01c93d-8cfd-46fb-9f2a-8f0bbd2fbaae&table=block&spaceId=6a055055-52ec-4ebb-a697-63027c951344&expirationTimestamp=1702189550728&signature=1U_7rhMWEAZF9KIYYuiI2t_KZs4rIrbjrcH-xdVSRUM\"\n",
        "\n",
        "# Baixar o conteúdo do CSV\n",
        "response = requests.get(url)\n",
        "\n",
        "# Verificar se a solicitação foi bem-sucedida\n",
        "if response.status_code == 200:\n",
        "    # Ler o CSV a partir do conteúdo baixado\n",
        "    df = pd.read_csv(StringIO(response.text))\n",
        "\n",
        "    # Exibir as primeiras linhas do DataFrame\n",
        "    print(df.head())\n",
        "else:\n",
        "    print(f\"Erro ao baixar o arquivo. Código de status: {response.status_code}\")\n"
      ],
      "metadata": {
        "colab": {
          "base_uri": "https://localhost:8080/"
        },
        "id": "SdifPGZkM1jy",
        "outputId": "1e3c75c4-0d77-4253-e93b-d0701a1a89be"
      },
      "execution_count": 5,
      "outputs": [
        {
          "output_type": "stream",
          "name": "stdout",
          "text": [
            "    Age  Gender  Time_on_platform  Devices_connected Subscription_type  \\\n",
            "0  49.0    Male            4700.0                3.0             Basic   \n",
            "1  69.0  Female            6107.0                2.0          Standard   \n",
            "2  44.0    Male            6374.0                3.0           Premium   \n",
            "3  26.0    Male               NaN                5.0             Basic   \n",
            "4  18.0     NaN            1948.0                3.0             Basic   \n",
            "\n",
            "   Num_streaming_services  Num_active_profiles  Avg_rating  Churned  \\\n",
            "0                     NaN                    3         NaN      0.0   \n",
            "1                     NaN                    1        2.14      0.0   \n",
            "2                     1.0                    1        1.91      1.0   \n",
            "3                     NaN                    2         NaN      NaN   \n",
            "4                     NaN                    3        3.88      0.0   \n",
            "\n",
            "                                User_id  \n",
            "0  a271aa56-bcfc-4f0a-91f7-b773de6b86a4  \n",
            "1  fe14b048-770b-4619-8ec6-485b0969ae31  \n",
            "2  0283dffd-6684-4a05-9c6f-c02098a6849d  \n",
            "3  c316f2f5-3403-4a0a-82c2-c98e4b3379d2  \n",
            "4  14879bcb-1977-4ad8-a7f9-6aa9bf7b872f  \n"
          ]
        }
      ]
    },
    {
      "cell_type": "code",
      "source": [
        "# Tipos de dados\n",
        "print(df.dtypes)\n",
        "\n",
        "# Quantidade de valores faltantes\n",
        "print(df.isna().sum())\n"
      ],
      "metadata": {
        "colab": {
          "base_uri": "https://localhost:8080/"
        },
        "id": "DazesM6TRbu2",
        "outputId": "6428b69d-0cf5-4bde-a6c6-4b1806369a17"
      },
      "execution_count": 6,
      "outputs": [
        {
          "output_type": "stream",
          "name": "stdout",
          "text": [
            "Age                       float64\n",
            "Gender                     object\n",
            "Time_on_platform          float64\n",
            "Devices_connected         float64\n",
            "Subscription_type          object\n",
            "Num_streaming_services    float64\n",
            "Num_active_profiles         int64\n",
            "Avg_rating                float64\n",
            "Churned                   float64\n",
            "User_id                    object\n",
            "dtype: object\n",
            "Age                       11277\n",
            "Gender                    14516\n",
            "Time_on_platform          21420\n",
            "Devices_connected         25188\n",
            "Subscription_type         25221\n",
            "Num_streaming_services    68312\n",
            "Num_active_profiles           0\n",
            "Avg_rating                17270\n",
            "Churned                   16736\n",
            "User_id                       0\n",
            "dtype: int64\n"
          ]
        }
      ]
    },
    {
      "cell_type": "code",
      "source": [
        "# Etapa 02: Tratamento dos dados\n",
        "# Substituir valores NaN por 0 em colunas específicas\n",
        "df.fillna({'Time_on_platform': 0, 'Num_streaming_services': 0, 'Churned': 0, 'Avg_rating': 0, 'Devices_connected': 0}, inplace=True)\n",
        "\n"
      ],
      "metadata": {
        "id": "3kk2dLoWRzqm"
      },
      "execution_count": 7,
      "outputs": []
    },
    {
      "cell_type": "code",
      "source": [
        "# Dropar linhas nulas nas colunas Gender, Subscription_type e Age\n",
        "df.dropna(subset=['Gender', 'Subscription_type', 'Age'], inplace=True)\n",
        "\n"
      ],
      "metadata": {
        "id": "-KprzgMxR5nC"
      },
      "execution_count": 8,
      "outputs": []
    },
    {
      "cell_type": "code",
      "source": [
        "# Transformando valores Churned 0 e 1 por No e Yes\n",
        "df['Churned'] = df['Churned'].replace({0: 'No', 1: 'Yes'})\n",
        "\n"
      ],
      "metadata": {
        "id": "MXZHLLc-R9OT"
      },
      "execution_count": 9,
      "outputs": []
    },
    {
      "cell_type": "code",
      "source": [
        "# Transformando valores floats em valores inteiros\n",
        "df['Num_streaming_services'] = df['Num_streaming_services'].astype(int)\n",
        "df['Avg_rating'] = df['Avg_rating'].astype(int)\n",
        "df['Devices_connected'] = df['Devices_connected'].astype(int)\n",
        "\n"
      ],
      "metadata": {
        "id": "7ifSyYhJSBFh"
      },
      "execution_count": 10,
      "outputs": []
    },
    {
      "cell_type": "code",
      "source": [
        "# Etapa 03: Modelagem dos Dados - Regressão Logística\n",
        "from sklearn.model_selection import train_test_split\n",
        "from sklearn.preprocessing import LabelEncoder, MinMaxScaler\n",
        "from sklearn.linear_model import LogisticRegression\n",
        "from sklearn.metrics import confusion_matrix, ConfusionMatrixDisplay\n",
        "\n"
      ],
      "metadata": {
        "id": "3KJ3edTuSEda"
      },
      "execution_count": 11,
      "outputs": []
    },
    {
      "cell_type": "code",
      "source": [
        "# Definir variáveis X e y para o modelo\n",
        "X = df.drop(columns=['Churned'])\n",
        "y = LabelEncoder().fit_transform(df['Churned'])\n"
      ],
      "metadata": {
        "id": "Sw7AFSp7SIfg"
      },
      "execution_count": 12,
      "outputs": []
    },
    {
      "cell_type": "code",
      "source": [
        "import pandas as pd\n",
        "\n",
        "# Exemplo de dados\n",
        "data = {'age': [25, 30, 35, 40],\n",
        "        'gender': ['Male', 'Female', 'Male', 'Female'],\n",
        "        'num_contents': [10, 15, 20, 25],\n",
        "        'avg_rating': [4.5, 3.5, 4.0, 5.0]}\n",
        "\n",
        "df = pd.DataFrame(data)\n",
        "\n",
        "# Codificação one-hot em uma linha\n",
        "df_encoded = pd.get_dummies(df, columns=['gender'])\n",
        "\n",
        "# Normalizar os dados\n",
        "scaler = MinMaxScaler()\n",
        "X_scaled = scaler.fit_transform(df_encoded[['age', 'num_contents', 'avg_rating']])\n",
        "\n",
        "# Exibir os dados normalizados\n",
        "print(X_scaled)\n"
      ],
      "metadata": {
        "colab": {
          "base_uri": "https://localhost:8080/"
        },
        "id": "ZUXNTG3jSQDc",
        "outputId": "7563dee0-74f5-429f-9376-487698700c16"
      },
      "execution_count": 13,
      "outputs": [
        {
          "output_type": "stream",
          "name": "stdout",
          "text": [
            "[[0.         0.         0.66666667]\n",
            " [0.33333333 0.33333333 0.        ]\n",
            " [0.66666667 0.66666667 0.33333333]\n",
            " [1.         1.         1.        ]]\n"
          ]
        }
      ]
    },
    {
      "cell_type": "code",
      "source": [
        "# Certifique-se de que 'y' está corretamente definido e é unidimensional\n",
        "y = df['gender']\n",
        "\n",
        "# Garantir que X_scaled tenha o mesmo número de amostras que y\n",
        "X_scaled = X_scaled[:len(y)]\n",
        "\n",
        "# Separar em train e test\n",
        "X_train, X_test, y_train, y_test = train_test_split(X_scaled, y, test_size=0.2, random_state=42)\n"
      ],
      "metadata": {
        "id": "my5W-4CwTIi-"
      },
      "execution_count": 14,
      "outputs": []
    },
    {
      "cell_type": "code",
      "source": [
        "# Criar e treinar o modelo de Regressão Logística\n",
        "model = LogisticRegression()\n",
        "model.fit(X_train, y_train)\n"
      ],
      "metadata": {
        "colab": {
          "base_uri": "https://localhost:8080/",
          "height": 74
        },
        "id": "pCxU60qFTmaO",
        "outputId": "2025b721-e11f-4af7-d5f8-0bfde10aeaf3"
      },
      "execution_count": 15,
      "outputs": [
        {
          "output_type": "execute_result",
          "data": {
            "text/plain": [
              "LogisticRegression()"
            ],
            "text/html": [
              "<style>#sk-container-id-1 {color: black;}#sk-container-id-1 pre{padding: 0;}#sk-container-id-1 div.sk-toggleable {background-color: white;}#sk-container-id-1 label.sk-toggleable__label {cursor: pointer;display: block;width: 100%;margin-bottom: 0;padding: 0.3em;box-sizing: border-box;text-align: center;}#sk-container-id-1 label.sk-toggleable__label-arrow:before {content: \"▸\";float: left;margin-right: 0.25em;color: #696969;}#sk-container-id-1 label.sk-toggleable__label-arrow:hover:before {color: black;}#sk-container-id-1 div.sk-estimator:hover label.sk-toggleable__label-arrow:before {color: black;}#sk-container-id-1 div.sk-toggleable__content {max-height: 0;max-width: 0;overflow: hidden;text-align: left;background-color: #f0f8ff;}#sk-container-id-1 div.sk-toggleable__content pre {margin: 0.2em;color: black;border-radius: 0.25em;background-color: #f0f8ff;}#sk-container-id-1 input.sk-toggleable__control:checked~div.sk-toggleable__content {max-height: 200px;max-width: 100%;overflow: auto;}#sk-container-id-1 input.sk-toggleable__control:checked~label.sk-toggleable__label-arrow:before {content: \"▾\";}#sk-container-id-1 div.sk-estimator input.sk-toggleable__control:checked~label.sk-toggleable__label {background-color: #d4ebff;}#sk-container-id-1 div.sk-label input.sk-toggleable__control:checked~label.sk-toggleable__label {background-color: #d4ebff;}#sk-container-id-1 input.sk-hidden--visually {border: 0;clip: rect(1px 1px 1px 1px);clip: rect(1px, 1px, 1px, 1px);height: 1px;margin: -1px;overflow: hidden;padding: 0;position: absolute;width: 1px;}#sk-container-id-1 div.sk-estimator {font-family: monospace;background-color: #f0f8ff;border: 1px dotted black;border-radius: 0.25em;box-sizing: border-box;margin-bottom: 0.5em;}#sk-container-id-1 div.sk-estimator:hover {background-color: #d4ebff;}#sk-container-id-1 div.sk-parallel-item::after {content: \"\";width: 100%;border-bottom: 1px solid gray;flex-grow: 1;}#sk-container-id-1 div.sk-label:hover label.sk-toggleable__label {background-color: #d4ebff;}#sk-container-id-1 div.sk-serial::before {content: \"\";position: absolute;border-left: 1px solid gray;box-sizing: border-box;top: 0;bottom: 0;left: 50%;z-index: 0;}#sk-container-id-1 div.sk-serial {display: flex;flex-direction: column;align-items: center;background-color: white;padding-right: 0.2em;padding-left: 0.2em;position: relative;}#sk-container-id-1 div.sk-item {position: relative;z-index: 1;}#sk-container-id-1 div.sk-parallel {display: flex;align-items: stretch;justify-content: center;background-color: white;position: relative;}#sk-container-id-1 div.sk-item::before, #sk-container-id-1 div.sk-parallel-item::before {content: \"\";position: absolute;border-left: 1px solid gray;box-sizing: border-box;top: 0;bottom: 0;left: 50%;z-index: -1;}#sk-container-id-1 div.sk-parallel-item {display: flex;flex-direction: column;z-index: 1;position: relative;background-color: white;}#sk-container-id-1 div.sk-parallel-item:first-child::after {align-self: flex-end;width: 50%;}#sk-container-id-1 div.sk-parallel-item:last-child::after {align-self: flex-start;width: 50%;}#sk-container-id-1 div.sk-parallel-item:only-child::after {width: 0;}#sk-container-id-1 div.sk-dashed-wrapped {border: 1px dashed gray;margin: 0 0.4em 0.5em 0.4em;box-sizing: border-box;padding-bottom: 0.4em;background-color: white;}#sk-container-id-1 div.sk-label label {font-family: monospace;font-weight: bold;display: inline-block;line-height: 1.2em;}#sk-container-id-1 div.sk-label-container {text-align: center;}#sk-container-id-1 div.sk-container {/* jupyter's `normalize.less` sets `[hidden] { display: none; }` but bootstrap.min.css set `[hidden] { display: none !important; }` so we also need the `!important` here to be able to override the default hidden behavior on the sphinx rendered scikit-learn.org. See: https://github.com/scikit-learn/scikit-learn/issues/21755 */display: inline-block !important;position: relative;}#sk-container-id-1 div.sk-text-repr-fallback {display: none;}</style><div id=\"sk-container-id-1\" class=\"sk-top-container\"><div class=\"sk-text-repr-fallback\"><pre>LogisticRegression()</pre><b>In a Jupyter environment, please rerun this cell to show the HTML representation or trust the notebook. <br />On GitHub, the HTML representation is unable to render, please try loading this page with nbviewer.org.</b></div><div class=\"sk-container\" hidden><div class=\"sk-item\"><div class=\"sk-estimator sk-toggleable\"><input class=\"sk-toggleable__control sk-hidden--visually\" id=\"sk-estimator-id-1\" type=\"checkbox\" checked><label for=\"sk-estimator-id-1\" class=\"sk-toggleable__label sk-toggleable__label-arrow\">LogisticRegression</label><div class=\"sk-toggleable__content\"><pre>LogisticRegression()</pre></div></div></div></div></div>"
            ]
          },
          "metadata": {},
          "execution_count": 15
        }
      ]
    },
    {
      "cell_type": "code",
      "source": [
        "# Prever as classes no conjunto de teste\n",
        "y_pred = model.predict(X_test)\n"
      ],
      "metadata": {
        "id": "f1sa9h8tUWLJ"
      },
      "execution_count": 16,
      "outputs": []
    },
    {
      "cell_type": "code",
      "source": [
        "from sklearn.metrics import confusion_matrix\n",
        "import seaborn as sns\n",
        "import matplotlib.pyplot as plt\n",
        "\n",
        "# Calcular a matriz de confusão\n",
        "cm = confusion_matrix(y_test, y_pred)\n",
        "\n",
        "# Plotar heatmap da matriz de confusão\n",
        "sns.heatmap(cm, annot=True, fmt='d', cmap='Blues', xticklabels=df['gender'].unique(), yticklabels=df['gender'].unique())\n",
        "plt.xlabel('Predicted')\n",
        "plt.ylabel('True')\n",
        "plt.show()\n"
      ],
      "metadata": {
        "colab": {
          "base_uri": "https://localhost:8080/",
          "height": 455
        },
        "id": "-GEyGIumaSN4",
        "outputId": "9ce1d805-838c-43fd-9970-d5e8f5fc53b1"
      },
      "execution_count": 17,
      "outputs": [
        {
          "output_type": "display_data",
          "data": {
            "text/plain": [
              "<Figure size 640x480 with 2 Axes>"
            ],
            "image/png": "[encoded data removed]"
          },
          "metadata": {}
        }
      ]
    },
    {
      "cell_type": "code",
      "source": [
        "print(df.columns)\n"
      ],
      "metadata": {
        "colab": {
          "base_uri": "https://localhost:8080/"
        },
        "id": "DuE-v43YbuZd",
        "outputId": "da450718-fc83-4334-8366-ee4466f10f3c"
      },
      "execution_count": 19,
      "outputs": [
        {
          "output_type": "stream",
          "name": "stdout",
          "text": [
            "Index(['age', 'gender', 'num_contents', 'avg_rating'], dtype='object')\n"
          ]
        }
      ]
    },
    {
      "cell_type": "code",
      "source": [
        "print(df.head())\n"
      ],
      "metadata": {
        "colab": {
          "base_uri": "https://localhost:8080/"
        },
        "id": "D2tvD0-gcLRh",
        "outputId": "49d00384-d70b-4be9-c8e5-7f69f861fc75"
      },
      "execution_count": 21,
      "outputs": [
        {
          "output_type": "stream",
          "name": "stdout",
          "text": [
            "   age  gender  num_contents  avg_rating\n",
            "0   25    Male            10         4.5\n",
            "1   30  Female            15         3.5\n",
            "2   35    Male            20         4.0\n",
            "3   40  Female            25         5.0\n"
          ]
        }
      ]
    },
    {
      "cell_type": "code",
      "source": [
        "# Definir variáveis X e y para o modelo\n",
        "X = df.drop(columns=['gender'])\n",
        "y = LabelEncoder().fit_transform(df['gender'])\n",
        "\n",
        "# Separar em train e test\n",
        "X_train, X_test, y_train, y_test = train_test_split(X, y, test_size=0.2, random_state=42)\n",
        "\n",
        "# Criar e treinar o modelo de Regressão Logística\n",
        "model = LogisticRegression()\n",
        "model.fit(X_train, y_train)\n",
        "\n",
        "# Prever as classes no conjunto de teste\n",
        "y_pred = model.predict(X_test)\n",
        "\n",
        "# Calcular a matriz de confusão\n",
        "cm = confusion_matrix(y_test, y_pred)\n",
        "\n",
        "# Plotar heatmap da matriz de confusão\n",
        "sns.heatmap(cm, annot=True, fmt='d', cmap='Blues', xticklabels=df['gender'].unique(), yticklabels=df['gender'].unique())\n",
        "plt.xlabel('Predicted')\n",
        "plt.ylabel('True')\n",
        "plt.show()\n"
      ],
      "metadata": {
        "colab": {
          "base_uri": "https://localhost:8080/",
          "height": 455
        },
        "id": "tl7-SIvZajrc",
        "outputId": "048773d0-cfc9-4709-f70d-fb9fa8e3044f"
      },
      "execution_count": 23,
      "outputs": [
        {
          "output_type": "display_data",
          "data": {
            "text/plain": [
              "<Figure size 640x480 with 2 Axes>"
            ],
            "image/png": "[encoded data removed]"
          },
          "metadata": {}
        }
      ]
    },
    {
      "cell_type": "code",
      "source": [],
      "metadata": {
        "id": "RtiCIUTvbWuo"
      },
      "execution_count": null,
      "outputs": []
    }
  ]
}